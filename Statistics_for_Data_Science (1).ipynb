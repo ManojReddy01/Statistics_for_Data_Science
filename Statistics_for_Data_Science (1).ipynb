{
 "cells": [
  {
   "cell_type": "markdown",
   "id": "39885feb-b85f-4c4c-9ced-1616f8823493",
   "metadata": {},
   "source": [
    "# **Statistics for Data Science**"
   ]
  },
  {
   "cell_type": "markdown",
   "id": "b315da09-6a14-44f2-8d2d-958ce71b5972",
   "metadata": {},
   "source": [
    "### In this notebook, we cover essential statistical concepts frequently used in data science, focusing on descriptive statistics and statistical inference. Each section includes explanations, practical code snippets, and visualizations to help you understand key statistical measures and concepts."
   ]
  },
  {
   "cell_type": "markdown",
   "id": "cf96f75a-0758-4699-86b6-81662e0459e3",
   "metadata": {},
   "source": [
    "## **Notebook Structure**\n",
    "### This notebook is divided into two main sections:\n",
    "\n",
    "### **Descriptive Statistics**:\n",
    "\n",
    "### 1. Measures of Central Tendency: Mean, Median, Mode.\n",
    "### 2. Measures of Spread: Range, Variance, Standard Deviation.\n",
    "### 3. Measure of Symmetry: Skewness, detecting if data is skewed left or right.\n",
    "### 4. Measure of Variability: Interquartile Range (IQR) and Coefficient of Variation (CV).\n",
    "### 5. Levels of Measurement: Nominal, Ordinal, Interval, and Ratio scales.\n",
    "\n",
    "### **Statistical Inferences**:\n",
    "\n",
    "### 1. Population vs. Sample: Understanding the difference and the importance of representative sampling.\n",
    "### 2. Central Limit Theorem: Explanation and demonstration of how sample means approximate a normal distribution.\n",
    "### 3. Confidence Intervals: Calculating a range that likely contains the true population mean.\n",
    "\n",
    "### **References for further**"
   ]
  },
  {
   "cell_type": "code",
   "execution_count": null,
   "id": "b9c7266e-a83b-471e-8ea8-defc2c9da0d6",
   "metadata": {},
   "outputs": [],
   "source": []
  },
  {
   "cell_type": "code",
   "execution_count": null,
   "id": "a19a25e5-0fbd-469e-bff8-df4eadd42cc5",
   "metadata": {},
   "outputs": [],
   "source": []
  },
  {
   "cell_type": "markdown",
   "id": "55fb15e6-8f7b-4122-87b0-d866c6f7a30c",
   "metadata": {},
   "source": [
    "## **Descriptive Statistics**\n",
    "1. Measure of Central Tendancy\n",
    "2. Measure of Spread\n",
    "3. Measure of Symmetry\n",
    "4. Measure of Variablity\n",
    "5. Level of Measurment"
   ]
  },
  {
   "cell_type": "markdown",
   "id": "ab78f429-2523-4965-b2bc-e58c528fd967",
   "metadata": {},
   "source": [
    "### 1. **Measure of Central Tendancy**\n",
    "1. Mean\n",
    "2. Median\n",
    "3. Mode"
   ]
  },
  {
   "cell_type": "markdown",
   "id": "22b2e0c9-270a-490b-bd69-c28781acef80",
   "metadata": {},
   "source": [
    "#### Let us consider a Attribute as our data . \n",
    "#### Example : \"Heights of students in a class\"\n"
   ]
  },
  {
   "cell_type": "code",
   "execution_count": 1,
   "id": "cb95eb32-2884-4fec-834d-474d70edeb5c",
   "metadata": {},
   "outputs": [
    {
     "data": {
      "text/plain": [
       "array([150, 149, 163, 138, 145, 148, 134, 150, 126, 136, 126, 156, 178,\n",
       "       154, 136, 149, 178, 131, 164, 169, 127, 157, 142, 169, 160, 153,\n",
       "       176, 145, 176, 141, 162, 142, 139, 136, 178, 168, 157, 162, 130,\n",
       "       131, 136, 136, 155, 152, 136, 160, 150, 173, 177, 148, 145, 133,\n",
       "       137, 128, 151, 162, 126, 167, 154, 125, 153, 138, 160, 151, 160,\n",
       "       131, 145, 131, 130, 156, 151, 174, 154, 138, 162, 150, 136, 132,\n",
       "       165, 132, 147, 174, 142, 149, 160, 132, 130, 171, 167, 153, 139,\n",
       "       141, 156, 171, 125, 143, 139, 178, 163, 142])"
      ]
     },
     "execution_count": 1,
     "metadata": {},
     "output_type": "execute_result"
    }
   ],
   "source": [
    "import numpy as np\n",
    "Heights = np.random.randint(125,180,100)\n",
    "Heights"
   ]
  },
  {
   "cell_type": "markdown",
   "id": "a6b00ae0-e04f-472b-bf63-e06abe24aa5b",
   "metadata": {},
   "source": [
    "#### 1. **Mean**\n",
    "#### The average value of the enrite data. i.e sum of all observations/total no of observations."
   ]
  },
  {
   "cell_type": "code",
   "execution_count": 2,
   "id": "0ba95e6d-e886-4d44-a0ae-5db4ea939c89",
   "metadata": {},
   "outputs": [
    {
     "data": {
      "text/plain": [
       "149.53"
      ]
     },
     "execution_count": 2,
     "metadata": {},
     "output_type": "execute_result"
    }
   ],
   "source": [
    "Average_Height= Heights.mean()\n",
    "Average_Height"
   ]
  },
  {
   "cell_type": "markdown",
   "id": "d52995d1-a05e-43c1-9d67-b7da3d8095de",
   "metadata": {},
   "source": [
    "#### 2. **Median**\n",
    "#### The middle most value when an array is sorted."
   ]
  },
  {
   "cell_type": "code",
   "execution_count": 3,
   "id": "4eafd300-0912-4fa5-b80f-987f3f611ee8",
   "metadata": {},
   "outputs": [
    {
     "data": {
      "text/plain": [
       "149.5"
      ]
     },
     "execution_count": 3,
     "metadata": {},
     "output_type": "execute_result"
    }
   ],
   "source": [
    "Median_Height = np.median(Heights)\n",
    "Median_Height"
   ]
  },
  {
   "cell_type": "markdown",
   "id": "648e7456-b570-4077-82f6-bf3a8f7c5080",
   "metadata": {},
   "source": [
    "#### 3. **Mode**\n",
    "#### The most recurring value in our data."
   ]
  },
  {
   "cell_type": "code",
   "execution_count": 4,
   "id": "158591d8-d0b1-415a-9965-a878c091b23d",
   "metadata": {},
   "outputs": [
    {
     "data": {
      "text/plain": [
       "ModeResult(mode=136, count=7)"
      ]
     },
     "execution_count": 4,
     "metadata": {},
     "output_type": "execute_result"
    }
   ],
   "source": [
    "#Mode\n",
    "#The most recurring value in our data\n",
    "from scipy import stats\n",
    "Mode_Height=stats.mode(Heights)\n",
    "\n",
    "Mode_Height\n"
   ]
  },
  {
   "cell_type": "code",
   "execution_count": 5,
   "id": "5f1e369a-0fa2-4743-996d-16c85944cca5",
   "metadata": {},
   "outputs": [],
   "source": [
    "Mode = 136"
   ]
  },
  {
   "cell_type": "code",
   "execution_count": null,
   "id": "a3b2416a-b4e9-42ff-b26a-bc2e885df4bc",
   "metadata": {},
   "outputs": [],
   "source": []
  },
  {
   "cell_type": "markdown",
   "id": "09e3b206-cbcb-4790-9dfa-ba5a5d59ad3e",
   "metadata": {},
   "source": [
    "### 2. **Measure Of Spread**\n",
    "1. Range\n",
    "2. Variance\n",
    "3. Standard Deviation\n"
   ]
  },
  {
   "cell_type": "markdown",
   "id": "8f9790e7-ab76-4b43-88de-e8598f419a48",
   "metadata": {},
   "source": [
    "#### 1. **Range**\n",
    "#### Range is the difference between Maximum and minimum value in our dataset."
   ]
  },
  {
   "cell_type": "code",
   "execution_count": 6,
   "id": "d9ef2c0b-ab7b-477d-9d19-663a164ad9ab",
   "metadata": {},
   "outputs": [
    {
     "name": "stdout",
     "output_type": "stream",
     "text": [
      "The Minimum Height of student is : 125 \n",
      "The Maximum Height of student is : 178 \n",
      "The Range of our data is : 53\n"
     ]
    }
   ],
   "source": [
    "\n",
    "minimum_value = np.min(Heights)\n",
    "maximum_value = np.max(Heights)\n",
    "print(f\"The Minimum Height of student is : {minimum_value} \")\n",
    "print(f\"The Maximum Height of student is : {maximum_value} \")\n",
    "print(f\"The Range of our data is : {maximum_value-minimum_value}\")"
   ]
  },
  {
   "cell_type": "markdown",
   "id": "5bb7cc96-0191-4fa7-aa17-89ff6e8f52e2",
   "metadata": {},
   "source": [
    "#### 2. **Variance**\n",
    "#### Variance is the measurment of average of squared difference from mean.\n",
    "#### Find the mean ,Square each difference from mean ,average them and thats our Variance."
   ]
  },
  {
   "cell_type": "code",
   "execution_count": 7,
   "id": "47df2119-7e7a-4d64-8559-73ef35d339ff",
   "metadata": {},
   "outputs": [
    {
     "name": "stdout",
     "output_type": "stream",
     "text": [
      "The variance of the Heights is : 226.04910000000004\n"
     ]
    }
   ],
   "source": [
    "print(f\"The variance of the Heights is : {Heights.var()}\")"
   ]
  },
  {
   "cell_type": "markdown",
   "id": "aef4316f-4510-4f7e-b0b1-4a2ffea38af1",
   "metadata": {},
   "source": [
    "#### 3. **Standard Deviation**\n",
    "#### The quare root of the variance.\n",
    "#### It shows the spread of data from mean."
   ]
  },
  {
   "cell_type": "code",
   "execution_count": 8,
   "id": "f2febd1a-5b41-42cc-88ec-5e6bc05a3ef5",
   "metadata": {},
   "outputs": [
    {
     "name": "stdout",
     "output_type": "stream",
     "text": [
      "The Standard Deviation of the Heights is : 15.034929331393615\n"
     ]
    }
   ],
   "source": [
    "print(f\"The Standard Deviation of the Heights is : {Heights.std()}\")"
   ]
  },
  {
   "cell_type": "code",
   "execution_count": null,
   "id": "2275af9c-631d-4c2d-bd64-a540b75732f8",
   "metadata": {},
   "outputs": [],
   "source": []
  },
  {
   "cell_type": "markdown",
   "id": "bd7fabff-b1e6-4529-a50f-52a3dbfd8e11",
   "metadata": {},
   "source": [
    "### 3. **Measure if Symmetry**\n",
    "#### Measure of symmetry indicates how balanced or skewed our data set is around the center.\n",
    "#### __Skewness__ : Skewness means the measure of asyymetry in data.\n",
    "#### 1. __positive skewness__ : Data has a long tail on the right side.\n",
    "#### example : Income istribution often has positive skew due to few very high incomes.\n",
    "#### 2. __negative skewness__ : Data has a long tail on the left.\n",
    "#### example : Test scores where many students score high but only few students very low marks. i.e absentee scores 0."
   ]
  },
  {
   "cell_type": "code",
   "execution_count": 9,
   "id": "1f6c4b23-b1f9-4581-9107-a80ba9df9b1e",
   "metadata": {},
   "outputs": [
    {
     "data": {
      "text/html": [
       "<div>\n",
       "<style scoped>\n",
       "    .dataframe tbody tr th:only-of-type {\n",
       "        vertical-align: middle;\n",
       "    }\n",
       "\n",
       "    .dataframe tbody tr th {\n",
       "        vertical-align: top;\n",
       "    }\n",
       "\n",
       "    .dataframe thead th {\n",
       "        text-align: right;\n",
       "    }\n",
       "</style>\n",
       "<table border=\"1\" class=\"dataframe\">\n",
       "  <thead>\n",
       "    <tr style=\"text-align: right;\">\n",
       "      <th></th>\n",
       "      <th>student_height</th>\n",
       "    </tr>\n",
       "  </thead>\n",
       "  <tbody>\n",
       "    <tr>\n",
       "      <th>0</th>\n",
       "      <td>150</td>\n",
       "    </tr>\n",
       "    <tr>\n",
       "      <th>1</th>\n",
       "      <td>149</td>\n",
       "    </tr>\n",
       "    <tr>\n",
       "      <th>2</th>\n",
       "      <td>163</td>\n",
       "    </tr>\n",
       "    <tr>\n",
       "      <th>3</th>\n",
       "      <td>138</td>\n",
       "    </tr>\n",
       "    <tr>\n",
       "      <th>4</th>\n",
       "      <td>145</td>\n",
       "    </tr>\n",
       "    <tr>\n",
       "      <th>...</th>\n",
       "      <td>...</td>\n",
       "    </tr>\n",
       "    <tr>\n",
       "      <th>95</th>\n",
       "      <td>143</td>\n",
       "    </tr>\n",
       "    <tr>\n",
       "      <th>96</th>\n",
       "      <td>139</td>\n",
       "    </tr>\n",
       "    <tr>\n",
       "      <th>97</th>\n",
       "      <td>178</td>\n",
       "    </tr>\n",
       "    <tr>\n",
       "      <th>98</th>\n",
       "      <td>163</td>\n",
       "    </tr>\n",
       "    <tr>\n",
       "      <th>99</th>\n",
       "      <td>142</td>\n",
       "    </tr>\n",
       "  </tbody>\n",
       "</table>\n",
       "<p>100 rows × 1 columns</p>\n",
       "</div>"
      ],
      "text/plain": [
       "    student_height\n",
       "0              150\n",
       "1              149\n",
       "2              163\n",
       "3              138\n",
       "4              145\n",
       "..             ...\n",
       "95             143\n",
       "96             139\n",
       "97             178\n",
       "98             163\n",
       "99             142\n",
       "\n",
       "[100 rows x 1 columns]"
      ]
     },
     "execution_count": 9,
     "metadata": {},
     "output_type": "execute_result"
    }
   ],
   "source": [
    "## Lets check whether Heights of our student are left or right skewed\n",
    "import pandas as pd\n",
    "import matplotlib.pyplot as plt\n",
    "import seaborn as sns\n",
    "Heights_data = pd.DataFrame({\"student_height\":[i for i in Heights]})\n",
    "Heights_data"
   ]
  },
  {
   "cell_type": "code",
   "execution_count": 10,
   "id": "98e7bc51-f42d-47e1-9a1f-213d44fbf99a",
   "metadata": {},
   "outputs": [
    {
     "name": "stderr",
     "output_type": "stream",
     "text": [
      "C:\\Users\\91950\\Desktop\\sample_project1\\env\\lib\\site-packages\\seaborn\\_oldcore.py:1119: FutureWarning: use_inf_as_na option is deprecated and will be removed in a future version. Convert inf values to NaN before operating instead.\n",
      "  with pd.option_context('mode.use_inf_as_na', True):\n"
     ]
    },
    {
     "data": {
      "image/png": "[encoded data removed]",
      "text/plain": [
       "<Figure size 640x480 with 1 Axes>"
      ]
     },
     "metadata": {},
     "output_type": "display_data"
    }
   ],
   "source": [
    "\n",
    "sns.histplot(Heights_data[\"student_height\"])\n",
    "plt.axvline(Average_Height, color='r', linestyle='dashed', linewidth=2, label='Mean')\n",
    "plt.axvline(Median_Height, color='b', linestyle='dashed', linewidth=2, label='Median')\n",
    "plt.axvline(Mode, color='y', linestyle='dashed', linewidth=2, label='Mode')\n",
    "plt.legend()\n",
    "plt.title(\"Skewness\")\n",
    "plt.show()"
   ]
  },
  {
   "cell_type": "code",
   "execution_count": 11,
   "id": "61ecffba-9c35-4232-bbfc-4be6f4a18809",
   "metadata": {},
   "outputs": [
    {
     "name": "stderr",
     "output_type": "stream",
     "text": [
      "C:\\Users\\91950\\Desktop\\sample_project1\\env\\lib\\site-packages\\seaborn\\_oldcore.py:1119: FutureWarning: use_inf_as_na option is deprecated and will be removed in a future version. Convert inf values to NaN before operating instead.\n",
      "  with pd.option_context('mode.use_inf_as_na', True):\n"
     ]
    },
    {
     "data": {
      "image/png": "[encoded data removed]",
      "text/plain": [
       "<Figure size 640x480 with 1 Axes>"
      ]
     },
     "metadata": {},
     "output_type": "display_data"
    }
   ],
   "source": [
    "#density plot\n",
    "sns.kdeplot(Heights_data[\"student_height\"])\n",
    "plt.axvline(Average_Height, color='r', linestyle='dashed', linewidth=2, label='Mean')\n",
    "plt.axvline(Median_Height, color='b', linestyle='dashed', linewidth=2, label='Median')\n",
    "plt.axvline(Mode, color='y', linestyle='dashed', linewidth=2, label='Mode')\n",
    "plt.legend()\n",
    "plt.title(\"Skewness\")\n",
    "plt.show()\n",
    "plt.show()"
   ]
  },
  {
   "cell_type": "markdown",
   "id": "a6a28d40-2342-4f87-a28d-74b7c966c248",
   "metadata": {},
   "source": [
    "\n",
    "#### The above graph interprets that our data is neither left skewed or right skewed. its uniform.\n",
    "#### This is because our mean,median and mode almost equal and lie on same line vertically\n"
   ]
  },
  {
   "cell_type": "code",
   "execution_count": null,
   "id": "ece44036-6c64-40fa-a2bf-4fd441729376",
   "metadata": {},
   "outputs": [],
   "source": []
  },
  {
   "cell_type": "markdown",
   "id": "ac0bc23b-e793-45aa-a751-1e9c88448e05",
   "metadata": {},
   "source": [
    "### 4. **Measure of Variability**\n"
   ]
  },
  {
   "cell_type": "markdown",
   "id": "c2bc287e-9198-4a54-956c-e4e6c72c68ed",
   "metadata": {},
   "source": [
    "#### Variability measures capture the degree of variation in data.\n",
    "#### 1. Inter Quartile Range (IQR).\n",
    "#### 2. Coefficient of Variation(CV)."
   ]
  },
  {
   "cell_type": "markdown",
   "id": "17716f38-bdcc-441b-b77a-723038ad6748",
   "metadata": {},
   "source": [
    "#### 1. **Inter Quartile Range**\n",
    "#### The Inter Quartile Range is a measure of the spread of the middle 50% of the data points in a dataset,showing how concentrated or spread out this cental portion of data is.\n",
    "#### The middle 505 of the data is nothing but data from 25% to 75%.\n",
    "#### Steps to calculate IQR :\n",
    "1. Order the Data.(i.e ascending order)\n",
    "2. Find the Quartiles.\n",
    "3. Q1(First quartile) is the median of first 50 percentile. i.e where 25% of the data falls.\n",
    "   Q3(Third quartile) is the median of Last 50 percentile. i.e where 75% of the data falls.\n",
    "\n",
    "4. Calculate the IQR\n",
    "   IQR is the difference between the third Quartile and first quartile\n",
    "   **IQR** : Q3-Q1 \n"
   ]
  },
  {
   "cell_type": "code",
   "execution_count": 12,
   "id": "8a8502e9-8285-4954-a9c2-4f27f29f2c03",
   "metadata": {},
   "outputs": [
    {
     "name": "stdout",
     "output_type": "stream",
     "text": [
      "The IQR for the student Heights is : 24.5\n"
     ]
    }
   ],
   "source": [
    "#calculating IQR for our Students heights\n",
    "sorted_heights = np.sort(Heights)\n",
    "Q1 = np.percentile(sorted_heights,25)\n",
    "Q3 = np.percentile(sorted_heights,75)\n",
    "IQR=Q3-Q1\n",
    "print(f\"The IQR for the student Heights is : {IQR}\")"
   ]
  },
  {
   "cell_type": "markdown",
   "id": "0ee02a50-3ccc-4c15-a67f-ffcbf7433e47",
   "metadata": {},
   "source": [
    "#### Why use IQR?\n",
    "1. The IQR is particularly valuable in identifying **OUTLIERS**.\n",
    "2. The Data Point that lies below Q1-(1.5*IQR) or above Q3 + (1.5*IQR).is considered as outlier.\n",
    "3. An Outlier is nothing but an extreme data that lies in our dataset.\n",
    "4. This method is commonly used in boxplot.\n",
    "5. Now,Identify outliers through IQR."
   ]
  },
  {
   "cell_type": "code",
   "execution_count": 13,
   "id": "fc002959-ad36-47fe-a9f7-f929b7fb4a67",
   "metadata": {},
   "outputs": [
    {
     "name": "stdout",
     "output_type": "stream",
     "text": [
      "The Lower bound is: 99.25\n",
      "The Upper bound is: 197.25\n",
      "Any data that lies below 99.25 and above 197.25 is Outlier\n"
     ]
    }
   ],
   "source": [
    "Lower_bound = Q1-(1.5*IQR)\n",
    "Upper_bound = Q3 + (1.5*IQR)\n",
    "print(f\"The Lower bound is: {Lower_bound}\")\n",
    "print(f\"The Upper bound is: {Upper_bound}\")\n",
    "print(f\"Any data that lies below {Lower_bound} and above {Upper_bound} is Outlier\")"
   ]
  },
  {
   "cell_type": "code",
   "execution_count": 14,
   "id": "56628cdb-4ba7-49c1-8c8a-020ed2cb78c6",
   "metadata": {},
   "outputs": [
    {
     "name": "stdout",
     "output_type": "stream",
     "text": [
      "Our data has no outlier!\n"
     ]
    }
   ],
   "source": [
    "Outlier=[]\n",
    "for i in Heights:\n",
    "    if i<94:\n",
    "        Outlier.append(i)\n",
    "    if i>206:\n",
    "        Outlier.append(i)\n",
    "if len(Outlier)==0:\n",
    "    print(\"Our data has no outlier!\")\n",
    "else:\n",
    "    print(f\"The ouliers in our data are : {Outlier}\")"
   ]
  },
  {
   "cell_type": "markdown",
   "id": "a268b7f3-93ef-4e9e-b294-596c04bd5403",
   "metadata": {},
   "source": [
    "#### 2. **Coefficient of Variation (CV)**\n",
    "#### Coefficient of variation measures relative variability of a dataset.\n",
    "#### It is also calculated as ratio os standard deviation to the mean and is expressed as percentage.\n",
    "#### **Formula** = (Standard Deviation/Mean)*100"
   ]
  },
  {
   "cell_type": "markdown",
   "id": "b1101b83-c560-4e90-bd54-b1efb3458130",
   "metadata": {},
   "source": [
    "#### **Example** : Let's say we have Two products.\"A\" and \"B\".\n",
    "#### **Product A**:\n",
    "#### Mean Sales: 500 units.\n",
    "#### Standard Deviation: 50 units.\n",
    "\n",
    "#### **Product B**:\n",
    "#### Mean sales: 1000 units\n",
    "#### Standard Deviation: 120 units.\n",
    "\n",
    "#### Q) We want to calculate the variability their monthly sales."
   ]
  },
  {
   "cell_type": "code",
   "execution_count": 15,
   "id": "6f79a3b6-cb77-47a4-b72e-140c5ae3dda7",
   "metadata": {},
   "outputs": [
    {
     "name": "stdout",
     "output_type": "stream",
     "text": [
      "Product A has the Coefficient of Variation: 10.0 %.Meaning it's variability is 10.0% of its average sales!\n",
      "Product B has the coefficient of Variation : 12.0 %.Meaning it's variability is 12.0% of its average sales!\n"
     ]
    }
   ],
   "source": [
    "#Calculate coefficient of variation for product A.\n",
    "Mean_A = 500\n",
    "STD_A = 50\n",
    "CV_A = (50/500)*100\n",
    "print(f\"Product A has the Coefficient of Variation: {round(CV_A,2)} %.Meaning it's variability is {round(CV_A,2)}% of its average sales!\")\n",
    "#Calculate coefficient of variation for product B.\n",
    "MEAN_B = 1000\n",
    "STD_B = 120\n",
    "CV_B = (120/1000)*100\n",
    "print(f\"Product B has the coefficient of Variation : {round(CV_B,2)} %.Meaning it's variability is {round(CV_B,2)}% of its average sales!\")"
   ]
  },
  {
   "cell_type": "markdown",
   "id": "e094c0f4-e0e3-40af-b6e3-b552694545c8",
   "metadata": {},
   "source": [
    "#### If consistency is important, Product A would be better choice!.\n",
    "#### Product B ,with a CV of 12%,has a higher relative variability than Product A,which has a CV of 10%.\n",
    "#### This suggests that Product B sales are more unpredictable."
   ]
  },
  {
   "cell_type": "code",
   "execution_count": null,
   "id": "c5cc0e2b-49ea-4de8-9e97-41f400516fe1",
   "metadata": {},
   "outputs": [],
   "source": []
  },
  {
   "cell_type": "markdown",
   "id": "a20b5350-475f-4f58-a338-6e74ac5038f2",
   "metadata": {},
   "source": [
    "### 5. **Level Of Measurment**\n",
    "#### Level of measurment describe how data can be classified and the mathematical relations can be performed on them.\n",
    "#### 1. Nominal Level\n",
    "#### 2. Ordinal Level\n",
    "#### 3. Interval Level\n",
    "#### 4. Ratio Level"
   ]
  },
  {
   "cell_type": "markdown",
   "id": "0cc3bb21-0adf-4c53-983c-09595fe8133a",
   "metadata": {},
   "source": [
    "#### 1. **Nominal Level**\n",
    "#### **.** Data at Nominal Level represents categories or labels without any specific order.\n",
    "#### **.** Each category is mutually exclusive and has no inherent ranking.\n",
    "#### Example: \n",
    "#### 1. Gender: Male, Female.\n",
    "#### 2. Car Brands: Mercedes, Tesla, Toyota.\n",
    "#### 3. Colors: Green,Blue,Red."
   ]
  },
  {
   "cell_type": "markdown",
   "id": "7529204f-d105-4b76-aef4-86ec1c5e273a",
   "metadata": {},
   "source": [
    "#### 2. **Ordinal Level**\n",
    "#### **.** Data at Ordinal Level has categories with a meaningful order.But,intervals between the categories ire not equal.\n",
    "#### **.** It allows us to rank or order the data but not to measure exact differences.\n",
    "#### Example:\n",
    "#### 1. Education Level: HighSchool,Bachelors,Masters.\n",
    "#### 2. Customer Satisfactory: Very Unsatisfied,Unsatisfied,Neutral,Satisfied,Very Satisfied."
   ]
  },
  {
   "cell_type": "markdown",
   "id": "ade36ca2-a041-49ed-8fbb-ba046681728c",
   "metadata": {},
   "source": [
    "#### 3. **Interval Level**\n",
    "#### **.** Interval data is numerical, and the interval between values are equal.\n",
    "#### **.** That means we can add and subtract values equally.\n",
    "#### Example:\n",
    "#### 1. Temperature in celcius or Fahrenheit: i.e The difference between 20C and 30C is same as difference between 40C and 50C.\n",
    "#### 2. Years: The difference between Years 2000 to 2010 is equal to the difference between 2010 and 2020."
   ]
  },
  {
   "cell_type": "markdown",
   "id": "fd345827-e926-4f35-a143-b2132784de07",
   "metadata": {},
   "source": [
    "#### 4. **Ratio Level**\n",
    "#### Ratio data has all the properties of interval data but it also has meaning full Zero!.\n",
    "#### Example:\n",
    "#### 1. Height: a person who is 180 cm tall is twice as tall as a person who is 90cm!.\n",
    "#### 2. Weight: 50KG is halif of 100KG.Here 0Kg means n weight!"
   ]
  },
  {
   "cell_type": "code",
   "execution_count": 16,
   "id": "51075f64-eb00-4010-8039-46ee98611e22",
   "metadata": {},
   "outputs": [
    {
     "data": {
      "text/html": [
       "<div>\n",
       "<style scoped>\n",
       "    .dataframe tbody tr th:only-of-type {\n",
       "        vertical-align: middle;\n",
       "    }\n",
       "\n",
       "    .dataframe tbody tr th {\n",
       "        vertical-align: top;\n",
       "    }\n",
       "\n",
       "    .dataframe thead th {\n",
       "        text-align: right;\n",
       "    }\n",
       "</style>\n",
       "<table border=\"1\" class=\"dataframe\">\n",
       "  <thead>\n",
       "    <tr style=\"text-align: right;\">\n",
       "      <th></th>\n",
       "      <th>Level</th>\n",
       "      <th>Category</th>\n",
       "      <th>Order</th>\n",
       "      <th>Equal Interval</th>\n",
       "      <th>True Zero</th>\n",
       "    </tr>\n",
       "  </thead>\n",
       "  <tbody>\n",
       "    <tr>\n",
       "      <th>0</th>\n",
       "      <td>Nominal</td>\n",
       "      <td>YES</td>\n",
       "      <td>NO</td>\n",
       "      <td>NO</td>\n",
       "      <td>NO</td>\n",
       "    </tr>\n",
       "    <tr>\n",
       "      <th>1</th>\n",
       "      <td>Ordinal</td>\n",
       "      <td>YES</td>\n",
       "      <td>YES</td>\n",
       "      <td>NO</td>\n",
       "      <td>NO</td>\n",
       "    </tr>\n",
       "    <tr>\n",
       "      <th>2</th>\n",
       "      <td>Interval</td>\n",
       "      <td>YES</td>\n",
       "      <td>YES</td>\n",
       "      <td>YES</td>\n",
       "      <td>NO</td>\n",
       "    </tr>\n",
       "    <tr>\n",
       "      <th>3</th>\n",
       "      <td>Ratio</td>\n",
       "      <td>YES</td>\n",
       "      <td>YES</td>\n",
       "      <td>YES</td>\n",
       "      <td>YES</td>\n",
       "    </tr>\n",
       "  </tbody>\n",
       "</table>\n",
       "</div>"
      ],
      "text/plain": [
       "      Level Category Order Equal Interval True Zero\n",
       "0   Nominal      YES    NO             NO        NO\n",
       "1   Ordinal      YES   YES             NO        NO\n",
       "2  Interval      YES   YES            YES        NO\n",
       "3     Ratio      YES   YES            YES       YES"
      ]
     },
     "execution_count": 16,
     "metadata": {},
     "output_type": "execute_result"
    }
   ],
   "source": [
    "#### Summary for level of measurement\n",
    "summary=pd.DataFrame({\"Level\":[\"Nominal\",\"Ordinal\",\"Interval\",\"Ratio\"],\"Category\":[\"YES\",\"YES\",\"YES\",\"YES\"],\"Order\":[\"NO\",\"YES\",\"YES\",\"YES\"],\"Equal Interval\":[\"NO\",\"NO\",\"YES\",\"YES\"],\"True Zero\":[\"NO\",\"NO\",\"NO\",\"YES\"]})\n",
    "summary"
   ]
  },
  {
   "cell_type": "code",
   "execution_count": null,
   "id": "99da84f6-144c-4b87-90ba-84887897b1c6",
   "metadata": {},
   "outputs": [],
   "source": []
  },
  {
   "cell_type": "code",
   "execution_count": null,
   "id": "7605921e-a9a7-4bc3-8783-36d88852baf8",
   "metadata": {},
   "outputs": [],
   "source": []
  },
  {
   "cell_type": "markdown",
   "id": "127d1da2-5ab0-4d8f-99ce-a69fff2f3efb",
   "metadata": {},
   "source": [
    "## 2. **Statistical Inferences**\n",
    "1. Population vs Sample\n",
    "2. Central Limit Theorem\n",
    "3. Confidence Intervals\n",
    "\n"
   ]
  },
  {
   "cell_type": "markdown",
   "id": "b420901f-893a-4fb3-951c-33f75ca5443d",
   "metadata": {},
   "source": [
    "### 1. **Population vs Sample**\n"
   ]
  },
  {
   "cell_type": "markdown",
   "id": "cc0702e0-df75-4ff3-96f5-874dd20f3794",
   "metadata": {},
   "source": [
    "#### **Population** : \n",
    "#### Population is the entire data that we are interested in studying it in our work.\n",
    "#### Example:  Suppose we are conducting survey on Students in a country on their average usage of mobile in a month.Here we are considering all the students in the entire country.this includes all universities male,female and everyone.\n",
    "#### **Sample** : \n",
    "#### Sample is the subset of the Population(The word itself says that the data is a sample.).Here we are just taking a sample from the entire data. We are not interested in working with the entire population data.Instead we randomly select 1000 people for our survey.\n",
    "#### Example: In the above mentioned example about survey, we only consider a 1000 students for our survey from various universities. This 1000 students will be considered as our sample data."
   ]
  },
  {
   "cell_type": "markdown",
   "id": "bd80eb4e-f94c-4c70-93ec-6aa958ac8c4a",
   "metadata": {},
   "source": [
    "### 2. **Central Limit Theorem**"
   ]
  },
  {
   "cell_type": "markdown",
   "id": "265626d2-f140-4bdb-adc8-1bad0f2afdc2",
   "metadata": {},
   "source": [
    "#### The central limit theorem states that, if we have sufficiently large data, the distribution of the sample mean will approach **Normal Distribution** regardless of the original population distribution."
   ]
  },
  {
   "cell_type": "markdown",
   "id": "0892a97f-35d5-420c-bc65-5e6554703c01",
   "metadata": {},
   "source": [
    "#### Why CLF is Important?\n",
    "#### **.** Clf allows us to use Normal Distribution properties for hypothesis testing and confident interval on means, even when the population is not normally distributed.\n",
    "#### **.** CLF is used for making decision.i.e used to estimate probabilities and conduct inference based on the sample means when dealing with large datasets.\n",
    "#### **.** We can understand it more clearly with an example.\n",
    "#### **Example** : \n",
    "#### Imagine a factory that produces mobiles.Let's assume:\n",
    "#### 1. The production of Mobile phones per per hour is skewed.(i.e not Normal)\n",
    "#### 2. The population mean (Average Production Rate) is 50 widges per hour.\n",
    "#### 3. The population Standard Deviation (Variability in production) is 10 Mobile phones.\n",
    "#### **Goal** : Suppose you want to understand if the average hourly productionmeets the target of 50 Mobile phones.But instead of lookingat just one hour at a time, you want to look at the average production over multiple hours to get more accurate measures."
   ]
  },
  {
   "cell_type": "markdown",
   "id": "1822761d-f9e7-48d5-be73-176d506c4b2b",
   "metadata": {},
   "source": [
    "#### **Step 1**: \n",
    "#### 1. Suppose we take a sample size of n=30 hours of production.\n",
    "#### 2. For each sample of 30 hours, we calculate the average production rate.(i.e the Mean).\n",
    "#### **Step 2**:\n",
    "#### 1. We need to repeat the sampling process for a 10000 times.\n",
    "#### 2. i.e The Average of 30 hours Mobile Phones productions for 10000 times.\n",
    "#### 3. Now, we have 10000 samples. these 10000 samples equals our entire Population.\n",
    "#### (i.e 1 sample = 30 hours)\n",
    "#### (i.e Population:10000 Samples)\n",
    "#### **Step 3**:\n",
    "#### 1. plot the 10000 samples as a histogram using matplotlib or seaborn.\n",
    "#### 2. We plot them in a histogram to see the distribution of each sample 50.(i.e Given Avg = 50 for 1 Hour.)"
   ]
  },
  {
   "cell_type": "code",
   "execution_count": 17,
   "id": "09b21a32-39ae-4bec-a9fd-d871f40c297a",
   "metadata": {},
   "outputs": [
    {
     "name": "stderr",
     "output_type": "stream",
     "text": [
      "C:\\Users\\91950\\Desktop\\sample_project1\\env\\lib\\site-packages\\seaborn\\_oldcore.py:1119: FutureWarning: use_inf_as_na option is deprecated and will be removed in a future version. Convert inf values to NaN before operating instead.\n",
      "  with pd.option_context('mode.use_inf_as_na', True):\n",
      "No artists with labels found to put in legend.  Note that artists whose label start with an underscore are ignored when legend() is called with no argument.\n"
     ]
    },
    {
     "data": {
      "image/png": "[encoded data removed]",
      "text/plain": [
       "<Figure size 640x480 with 1 Axes>"
      ]
     },
     "metadata": {},
     "output_type": "display_data"
    }
   ],
   "source": [
    "import numpy as np\n",
    "import matplotlib.pyplot as plt\n",
    "import seaborn as sns\n",
    "population_mean = 50\n",
    "population_std =10\n",
    "sample_size=30\n",
    "no_of_samples=10000\n",
    "sample_means=[]\n",
    "for i in range(no_of_samples):\n",
    "    #simulate a sample of 30 hours of productions for given range.\n",
    "    sample = np.random.normal(population_mean,population_std,sample_size)\n",
    "    sample_means.append(np.mean(sample))\n",
    "#plot the distribution\n",
    "sns.histplot(sample_means,bins=30,color=\"skyblue\",edgecolor=\"black\")\n",
    "plt.title(\"Distribution of sample means (Central Limit Theorem)\")\n",
    "plt.xlabel(\"Sample Mean\",color=\"navy\")\n",
    "plt.ylabel(\"Frequency\",color=\"navy\")\n",
    "plt.legend()\n",
    "plt.show()"
   ]
  },
  {
   "cell_type": "markdown",
   "id": "447038c0-ebe9-42dd-8008-08167ae6c9e2",
   "metadata": {},
   "source": [
    "#### We can see the above histogram is accurately a Normal Distribution.\n",
    "#### As the samples increases the distribution will be normal\n",
    "#### Code Explanation :\n",
    "#### 1.we declared a array sample_means for storing the mean of samples.\n",
    "#### 2.we run the code for 10000 time to calculate 10000 samples.\n",
    "#### 3. Sample = np.random.normal(50,10,30). this piece of code generaes 30 random values centered around 50 with standard deviation 10.giving a sample representing 30 hours of production data.\n",
    "\n",
    "\n",
    "\n",
    "\n"
   ]
  },
  {
   "cell_type": "markdown",
   "id": "9c0d67bd-65b6-420b-89c1-97fa417eaed4",
   "metadata": {},
   "source": [
    "### 3. **Confident Intervals**"
   ]
  },
  {
   "cell_type": "markdown",
   "id": "20f396a7-701c-4a36-b00a-1cb32a88d38f",
   "metadata": {},
   "source": [
    "#### **.** A confidence interval is nothing but a range of data from point A to point B.\n",
    "#### **.** That particular range of values likely contains a population parameter like mean based on sample data.\n",
    "#### **.** A confidence level (**95%**) is associated with the interval, indicating the likelihood that the interval contains the true proportional parameter.\n",
    "#### **.** This may sound confusing. Let us walk through a example to understand it more clearly."
   ]
  },
  {
   "cell_type": "markdown",
   "id": "4cb34c8c-ccaa-43da-87bd-b975bac872f1",
   "metadata": {},
   "source": [
    "#### **Example** : Suppose you are a data scientist working in a company like facebook/instagram. Your task is estimating Daily time spent on an app.We need to find/estimate how much time users spend on the Application daily.\n",
    "#### Data collection : you collect a random sample of **100** users and calculate that on average they average they spend 120 minutes a day. standard deviation is 30 minutes.\n",
    "#### **Confident interval calculation** :\n",
    "#### you want a 95% confidence interval for the mean time users spend on the app.\n",
    "#### **Formula** :\n",
    "#### For a Normal Distribution,the confidence interval is given by\n",
    "#### CI=Sample mean (+-) Z*(std/(sample size)**0.5)\n",
    "#### Z*(std/(sample size)**0.5 is the error rate."
   ]
  },
  {
   "cell_type": "code",
   "execution_count": 18,
   "id": "017b206a-7a7d-46ea-9ecd-ac0ee13a3b7a",
   "metadata": {},
   "outputs": [
    {
     "name": "stdout",
     "output_type": "stream",
     "text": [
      "The confidence interval is 114.12 to 125.88\n",
      "We can interpret that, with 95% confidence interval that the average time all users spend on application per day lies within the 114.12 minutes to 125.88 minutes.\n"
     ]
    }
   ],
   "source": [
    "#calculation\n",
    "import math\n",
    "Sample_mean=120\n",
    "Standard_deviation=30\n",
    "sample_size=100\n",
    "z=1.96 #for 95% confidence.\n",
    "error_rate = z*(Standard_deviation/math.sqrt(sample_size))\n",
    "lower_bound = Sample_mean-error_rate\n",
    "upper_bound = Sample_mean+error_rate\n",
    "print(f\"The confidence interval is {lower_bound} to {upper_bound}\")\n",
    "print(f\"We can interpret that, with 95% confidence interval that the average time all users spend on application per day lies within the {lower_bound} minutes to {upper_bound} minutes.\")"
   ]
  },
  {
   "cell_type": "markdown",
   "id": "2572fb20-999d-428e-a65c-b28714c94ce4",
   "metadata": {},
   "source": [
    "#### Practical sigificance of confident interval : \n",
    "#### If, for example , company aims for average time spent shouls be above 130 minutes,this confidence interval suggests that current average time is below the target."
   ]
  },
  {
   "cell_type": "markdown",
   "id": "77f871cb-9329-49f9-b2ff-76f99c920f6e",
   "metadata": {},
   "source": [
    "#### **Conclusion**:\n",
    "#### Can conclude : \n",
    "#### We are 95% confident that the average daily time of all users spend on the app falls between the confidence interval.\n",
    "#### Cannot conclude : \n",
    "#### This confidence interval does not guarentee that every user time falls between this range nor does it give specific insights into individual usage patterns or outliers."
   ]
  },
  {
   "cell_type": "markdown",
   "id": "73c8b22f-bb02-4bc4-9f1b-d6a7c32c1407",
   "metadata": {},
   "source": [
    "## **References and Further Reading**\n",
    "### For those who looking to dive deeper, here are some recommended resources:\n",
    "### Statistics for Data Science : https://www.w3schools.com/datascience/ds_stat_intro.asp\n"
   ]
  },
  {
   "cell_type": "code",
   "execution_count": null,
   "id": "2f8f82a6-3201-4476-bd77-cdf0420daa25",
   "metadata": {},
   "outputs": [],
   "source": []
  }
 ],
 "metadata": {
  "kernelspec": {
   "display_name": "Python 3 (ipykernel)",
   "language": "python",
   "name": "python3"
  },
  "language_info": {
   "codemirror_mode": {
    "name": "ipython",
    "version": 3
   },
   "file_extension": ".py",
   "mimetype": "text/x-python",
   "name": "python",
   "nbconvert_exporter": "python",
   "pygments_lexer": "ipython3",
   "version": "3.9.18"
  }
 },
 "nbformat": 4,
 "nbformat_minor": 5
}
